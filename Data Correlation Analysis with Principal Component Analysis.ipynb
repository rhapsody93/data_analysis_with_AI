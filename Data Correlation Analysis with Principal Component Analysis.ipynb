{
  "nbformat": 4,
  "nbformat_minor": 0,
  "metadata": {
    "colab": {
      "provenance": []
    },
    "kernelspec": {
      "name": "python3",
      "display_name": "Python 3"
    },
    "language_info": {
      "name": "python"
    }
  },
  "cells": [
    {
      "cell_type": "markdown",
      "source": [
        "# PCA\n",
        "\n",
        "\n",
        "- step1. normalization\n",
        "- step2. covariance matrix\n",
        "- step3. eigen stuff (eigen vector, eigen - value)\n",
        "- step4. principa component\n",
        "- step5. reconstructing the original data"
      ],
      "metadata": {
        "id": "np0_DIiLIZZJ"
      }
    },
    {
      "cell_type": "markdown",
      "source": [
        "#### check eigen value and vector"
      ],
      "metadata": {
        "id": "HQvGvbLJHLaV"
      }
    },
    {
      "cell_type": "code",
      "source": [],
      "metadata": {
        "id": "zyWE7hGuHPTI"
      },
      "execution_count": null,
      "outputs": []
    },
    {
      "cell_type": "markdown",
      "source": [
        "### Data Set\n",
        "\n",
        "```\n",
        "x = np.array([170, 174, 172, 176, 168, 166])\n",
        "y = np.array([68, 80, 79, 86, 60, 61])\n",
        "```"
      ],
      "metadata": {
        "id": "mQmt_nSyzYk0"
      }
    },
    {
      "cell_type": "code",
      "execution_count": 1,
      "metadata": {
        "id": "nK9BLb_yAFmX"
      },
      "outputs": [],
      "source": [
        "import numpy as np\n",
        "import matplotlib.pyplot as plt\n",
        "\n",
        "x = np.array([170, 174, 172, 176, 168, 166])\n",
        "y = np.array([68, 80, 79, 86, 60, 61])"
      ]
    },
    {
      "cell_type": "markdown",
      "source": [
        "### step1. Normalization\n",
        "\n",
        "\n"
      ],
      "metadata": {
        "id": "HxMLdTlLzmyk"
      }
    },
    {
      "cell_type": "code",
      "source": [
        "plt.scatter(x, y)\n",
        "plt.grid(True)\n",
        "plt.show()"
      ],
      "metadata": {
        "id": "8O0Dj8VMAW1F",
        "colab": {
          "base_uri": "https://localhost:8080/",
          "height": 430
        },
        "outputId": "5e262b81-264d-4f33-9979-3dd931244072"
      },
      "execution_count": 2,
      "outputs": [
        {
          "output_type": "display_data",
          "data": {
            "text/plain": [
              "<Figure size 640x480 with 1 Axes>"
            ],
            "image/png": "[encoded data removed]"
          },
          "metadata": {}
        }
      ]
    },
    {
      "cell_type": "code",
      "source": [
        "data = np.column_stack((x, y))\n",
        "print('numpy array of height and weigth')\n",
        "print(data)\n",
        "\n",
        "data_mean = np.mean(data, axis=0)\n",
        "print('\\nnumpy array of data mean : height, weight')\n",
        "print(data_mean)"
      ],
      "metadata": {
        "colab": {
          "base_uri": "https://localhost:8080/"
        },
        "id": "6UaHSBd-7ZKn",
        "outputId": "ae7760f9-e3a6-4cc8-d388-bed833d368ba"
      },
      "execution_count": 10,
      "outputs": [
        {
          "output_type": "stream",
          "name": "stdout",
          "text": [
            "numpy array of height and weigth\n",
            "[[170  68]\n",
            " [174  80]\n",
            " [172  79]\n",
            " [176  86]\n",
            " [168  60]\n",
            " [166  61]]\n",
            "\n",
            "numpy array of data mean : height, weight\n",
            "[171.          72.33333333]\n"
          ]
        }
      ]
    },
    {
      "cell_type": "code",
      "source": [
        "# Z-score(mean=0, standard deviation=1)\n",
        "# standardization\n",
        "mean_data = np.mean(data, axis=0) # 키(height)에 대한 평균, 몸무게(weight)에 대한 평균 각각 계산\n",
        "stddev_data = np.std(data, axis=0) # 키(height)에 대한 표준편차, 몸무게(weight)에 대한 표준편차 각각 계산\n",
        "centered_data = (data - mean_data) / stddev_data\n",
        "centered_data"
      ],
      "metadata": {
        "id": "VmHTaYfrAZJP",
        "colab": {
          "base_uri": "https://localhost:8080/"
        },
        "outputId": "5bc6eca1-357d-4302-d9c1-d65f9aa86e59"
      },
      "execution_count": 11,
      "outputs": [
        {
          "output_type": "execute_result",
          "data": {
            "text/plain": [
              "array([[-0.29277002, -0.43723732],\n",
              "       [ 0.87831007,  0.77357371],\n",
              "       [ 0.29277002,  0.67267279],\n",
              "       [ 1.46385011,  1.37897923],\n",
              "       [-0.87831007, -1.24444467],\n",
              "       [-1.46385011, -1.14354375]])"
            ]
          },
          "metadata": {},
          "execution_count": 11
        }
      ]
    },
    {
      "cell_type": "code",
      "source": [
        "# Drawing scatter plot\n",
        "plt.scatter(centered_data[:, 0], centered_data[:, 1])\n",
        "plt.grid(True)\n",
        "plt.show()"
      ],
      "metadata": {
        "id": "BPazPpNLAc0u",
        "colab": {
          "base_uri": "https://localhost:8080/",
          "height": 434
        },
        "outputId": "6ce4de60-5bc5-4a8a-b05e-9e21f35dddc2"
      },
      "execution_count": 12,
      "outputs": [
        {
          "output_type": "display_data",
          "data": {
            "text/plain": [
              "<Figure size 640x480 with 1 Axes>"
            ],
            "image/png": "[encoded data removed]"
          },
          "metadata": {}
        }
      ]
    },
    {
      "cell_type": "markdown",
      "source": [
        "### step2. Covariance Matrix"
      ],
      "metadata": {
        "id": "AyNtelbQ07UO"
      }
    },
    {
      "cell_type": "code",
      "source": [
        "# Calculation of covariance matrix\n",
        "cov_matrix = np.cov(centered_data, rowvar=False)    # rowvar=False -> columns : variable, rows : sample\n",
        "print(cov_matrix)"
      ],
      "metadata": {
        "id": "z0iNGni2AyKK",
        "colab": {
          "base_uri": "https://localhost:8080/"
        },
        "outputId": "53af747d-7a43-49a5-ce05-829e994dc44f"
      },
      "execution_count": 13,
      "outputs": [
        {
          "output_type": "stream",
          "name": "stdout",
          "text": [
            "[[1.2        1.15799796]\n",
            " [1.15799796 1.2       ]]\n"
          ]
        }
      ]
    },
    {
      "cell_type": "markdown",
      "source": [
        "### step 3. Eigen Value & Eigen Vector"
      ],
      "metadata": {
        "id": "u8eLsu6K1EOS"
      }
    },
    {
      "cell_type": "code",
      "source": [
        "# Calculation of eigen value, eigen vector\n",
        "eig_values, eig_vectors = np.linalg.eig(cov_matrix)\n",
        "print('Eigen Values')\n",
        "print(eig_values)\n",
        "print('\\nEigen Vectors')\n",
        "print(eig_vectors)"
      ],
      "metadata": {
        "id": "sPAIaY1yBNpm",
        "colab": {
          "base_uri": "https://localhost:8080/"
        },
        "outputId": "b0594fb7-2beb-4bd6-a1ba-bdf7866a1371"
      },
      "execution_count": 15,
      "outputs": [
        {
          "output_type": "stream",
          "name": "stdout",
          "text": [
            "Eigen Values\n",
            "[2.35799796 0.04200204]\n",
            "\n",
            "Eigen Vectors\n",
            "[[ 0.70710678 -0.70710678]\n",
            " [ 0.70710678  0.70710678]]\n"
          ]
        }
      ]
    },
    {
      "cell_type": "markdown",
      "source": [
        "### step 4. Pincipal Component"
      ],
      "metadata": {
        "id": "nJA8Heei1OUi"
      }
    },
    {
      "cell_type": "code",
      "source": [
        "# Principal Component\n",
        "principal_component = eig_vectors[:, np.argmax(eig_values)]   # Finding eigen vector corresponding to index of maximum eigen value\n",
        "print('principal component')\n",
        "print(principal_component)\n",
        "\n",
        "print('\\ncentered data')\n",
        "print(centered_data)\n",
        "                #     (6*2)    @   (2*1) = (6*1)\n",
        "projected_data = centered_data @ principal_component    # Data projection to the principal component direction\n",
        "print('\\nprojected data')\n",
        "print(projected_data)   # dimension reduction : 2D -> 1D"
      ],
      "metadata": {
        "id": "ffa4Y3auBqOu",
        "colab": {
          "base_uri": "https://localhost:8080/"
        },
        "outputId": "0c18c0c7-331c-4469-c503-cf2d313939df"
      },
      "execution_count": 23,
      "outputs": [
        {
          "output_type": "stream",
          "name": "stdout",
          "text": [
            "principal component\n",
            "[0.70710678 0.70710678]\n",
            "\n",
            "centered data\n",
            "[[-0.29277002 -0.43723732]\n",
            " [ 0.87831007  0.77357371]\n",
            " [ 0.29277002  0.67267279]\n",
            " [ 1.46385011  1.37897923]\n",
            " [-0.87831007 -1.24444467]\n",
            " [-1.46385011 -1.14354375]]\n",
            "\n",
            "projected data\n",
            "[-0.51619314  1.16805822  0.68267116  2.0101839  -1.50101427 -1.84370588]\n"
          ]
        }
      ]
    },
    {
      "cell_type": "markdown",
      "source": [
        "### step 5. reconstructing the original data"
      ],
      "metadata": {
        "id": "CQIzy_Fr_woO"
      }
    },
    {
      "cell_type": "code",
      "source": [
        "# PCA visualization\n",
        "plt.scatter(x, y, label='original data')\n",
        "\n",
        "pca_data_x = mean_data[0] + projected_data * principal_component[0] * stddev_data[0]    # transform from projected data to original coordinate(height)\n",
        "pca_data_y = mean_data[1] + projected_data * principal_component[1] * stddev_data[1]    # transform from projected data to original coordinate(weight)\n",
        "plt.scatter(pca_data_x, pca_data_y, label='projected data using PCA')\n",
        "plt.plot(pca_data_x, pca_data_y, 'r-')\n",
        "\n",
        "plt.grid(True)\n",
        "plt.legend()\n",
        "plt.show()"
      ],
      "metadata": {
        "id": "gTvYSBiP_2Ip",
        "colab": {
          "base_uri": "https://localhost:8080/",
          "height": 430
        },
        "outputId": "c7079992-71f4-4613-ea38-abc7f04039ff"
      },
      "execution_count": 24,
      "outputs": [
        {
          "output_type": "display_data",
          "data": {
            "text/plain": [
              "<Figure size 640x480 with 1 Axes>"
            ],
            "image/png": "[encoded data removed]"
          },
          "metadata": {}
        }
      ]
    }
  ]
}